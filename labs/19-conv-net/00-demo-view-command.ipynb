{
 "cells": [
  {
   "cell_type": "markdown",
   "metadata": {},
   "source": [
    "### REVISITING THE VIEW COMMAND -- DEMO "
   ]
  },
  {
   "cell_type": "code",
   "execution_count": 1,
   "metadata": {},
   "outputs": [],
   "source": [
    "import torch"
   ]
  },
  {
   "cell_type": "code",
   "execution_count": 2,
   "metadata": {},
   "outputs": [
    {
     "name": "stdout",
     "output_type": "stream",
     "text": [
      "tensor([ 0,  1,  2,  3,  4,  5,  6,  7,  8,  9, 10, 11])\n"
     ]
    }
   ],
   "source": [
    "X=torch.arange(12)\n",
    "\n",
    "print(X)"
   ]
  },
  {
   "cell_type": "markdown",
   "metadata": {},
   "source": [
    "### We can specify only one of the dimension and let pytorch figure out the remaining one"
   ]
  },
  {
   "cell_type": "code",
   "execution_count": 3,
   "metadata": {},
   "outputs": [
    {
     "name": "stdout",
     "output_type": "stream",
     "text": [
      "tensor([[ 0,  1],\n",
      "        [ 2,  3],\n",
      "        [ 4,  5],\n",
      "        [ 6,  7],\n",
      "        [ 8,  9],\n",
      "        [10, 11]])\n"
     ]
    }
   ],
   "source": [
    "Y = X.view(6,-1)\n",
    "\n",
    "print(Y)"
   ]
  },
  {
   "cell_type": "code",
   "execution_count": 4,
   "metadata": {},
   "outputs": [
    {
     "name": "stdout",
     "output_type": "stream",
     "text": [
      "tensor([[ 0,  1,  2,  3],\n",
      "        [ 4,  5,  6,  7],\n",
      "        [ 8,  9, 10, 11]])\n"
     ]
    }
   ],
   "source": [
    "Z = X.view(-1,4)\n",
    "\n",
    "print(Z)"
   ]
  },
  {
   "cell_type": "markdown",
   "metadata": {},
   "source": [
    "### Suppose we have a batch of 2 x 2 matrices"
   ]
  },
  {
   "cell_type": "code",
   "execution_count": 5,
   "metadata": {},
   "outputs": [
    {
     "name": "stdout",
     "output_type": "stream",
     "text": [
      "tensor([[[0.4176, 0.2763],\n",
      "         [0.2876, 0.4616]],\n",
      "\n",
      "        [[0.1990, 0.3635],\n",
      "         [0.8717, 0.5607]],\n",
      "\n",
      "        [[0.3499, 0.1369],\n",
      "         [0.4932, 0.0682]],\n",
      "\n",
      "        [[0.0998, 0.5990],\n",
      "         [0.6002, 0.7454]],\n",
      "\n",
      "        [[0.8956, 0.8345],\n",
      "         [0.6781, 0.3386]],\n",
      "\n",
      "        [[0.5394, 0.8195],\n",
      "         [0.9990, 0.6302]],\n",
      "\n",
      "        [[0.6813, 0.0775],\n",
      "         [0.9435, 0.9464]],\n",
      "\n",
      "        [[0.1015, 0.4515],\n",
      "         [0.6625, 0.3099]],\n",
      "\n",
      "        [[0.9654, 0.2896],\n",
      "         [0.1136, 0.0364]],\n",
      "\n",
      "        [[0.8077, 0.1572],\n",
      "         [0.8867, 0.7010]]])\n"
     ]
    }
   ],
   "source": [
    "bs=10\n",
    "\n",
    "X=torch.rand(bs,2,2)\n",
    "\n",
    "print(X)"
   ]
  },
  {
   "cell_type": "markdown",
   "metadata": {},
   "source": [
    "### We can reshape it as a batch of vectors with 4 entries each"
   ]
  },
  {
   "cell_type": "code",
   "execution_count": 6,
   "metadata": {},
   "outputs": [
    {
     "name": "stdout",
     "output_type": "stream",
     "text": [
      "tensor([[0.4176, 0.2763, 0.2876, 0.4616],\n",
      "        [0.1990, 0.3635, 0.8717, 0.5607],\n",
      "        [0.3499, 0.1369, 0.4932, 0.0682],\n",
      "        [0.0998, 0.5990, 0.6002, 0.7454],\n",
      "        [0.8956, 0.8345, 0.6781, 0.3386],\n",
      "        [0.5394, 0.8195, 0.9990, 0.6302],\n",
      "        [0.6813, 0.0775, 0.9435, 0.9464],\n",
      "        [0.1015, 0.4515, 0.6625, 0.3099],\n",
      "        [0.9654, 0.2896, 0.1136, 0.0364],\n",
      "        [0.8077, 0.1572, 0.8867, 0.7010]])\n"
     ]
    }
   ],
   "source": [
    "Y = X.view(-1,4)\n",
    "\n",
    "print(Y)"
   ]
  },
  {
   "cell_type": "code",
   "execution_count": null,
   "metadata": {
    "collapsed": true
   },
   "outputs": [],
   "source": []
  }
 ],
 "metadata": {
  "kernelspec": {
   "display_name": "Python 3",
   "language": "python",
   "name": "python3"
  },
  "language_info": {
   "codemirror_mode": {
    "name": "ipython",
    "version": 3
   },
   "file_extension": ".py",
   "mimetype": "text/x-python",
   "name": "python",
   "nbconvert_exporter": "python",
   "pygments_lexer": "ipython3",
   "version": "3.6.4"
  }
 },
 "nbformat": 4,
 "nbformat_minor": 2
}
