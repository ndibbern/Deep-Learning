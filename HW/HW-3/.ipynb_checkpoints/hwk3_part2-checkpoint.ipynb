{
 "cells": [
  {
   "cell_type": "markdown",
   "metadata": {},
   "source": [
    "# Hwk3 part 2"
   ]
  },
  {
   "cell_type": "code",
   "execution_count": null,
   "metadata": {},
   "outputs": [],
   "source": [
    "import torch\n",
    "import utils\n",
    "import random"
   ]
  },
  {
   "cell_type": "markdown",
   "metadata": {},
   "source": [
    "# Problem 1"
   ]
  },
  {
   "cell_type": "markdown",
   "metadata": {},
   "source": [
    "### The images from MNIST are 28 x 28. We are going to crop them so that they are only 20 x 20. To be more precise, we will remove 4 pixels from the top, bottom, left and right.\n",
    "\n",
    "### Create a 60000x20x20 tensor that you will call \"data_cropped\" that contains a cropped version of the 60000 images from the training set. To do this you first need to download the trainset into a tensor that you will call \"data\", then you need to slice this tensor in order to make a tensor called \"data_cropped\". (Hint: look at the slicing tutorial at the end of the previous notebook)"
   ]
  },
  {
   "cell_type": "code",
   "execution_count": null,
   "metadata": {},
   "outputs": [],
   "source": [
    "# complete"
   ]
  },
  {
   "cell_type": "markdown",
   "metadata": {},
   "source": [
    "### Use this to check it worked:"
   ]
  },
  {
   "cell_type": "code",
   "execution_count": null,
   "metadata": {},
   "outputs": [],
   "source": [
    "idx=5\n",
    "utils.show(data[idx])\n",
    "utils.show(data_cropped[idx])"
   ]
  },
  {
   "cell_type": "markdown",
   "metadata": {},
   "source": [
    "# ----------------------------------------"
   ]
  },
  {
   "cell_type": "markdown",
   "metadata": {},
   "source": [
    "# Problem 2"
   ]
  },
  {
   "cell_type": "markdown",
   "metadata": {},
   "source": [
    "### Download the CIFAR training set into a tensor that you will call 'data'.  Then create a tensor 'data_red' that contains only the red channel of every image (this should be a 50000x32x32 tensor). Similarly, create a tensor 'data_green' and 'data_blue' (Hint: you just need to slice the data tensor)."
   ]
  },
  {
   "cell_type": "code",
   "execution_count": null,
   "metadata": {},
   "outputs": [],
   "source": [
    "# complete"
   ]
  },
  {
   "cell_type": "markdown",
   "metadata": {},
   "source": [
    "### Use the code below to check it worked. Can you make sense of the 4 images? (For example, when looking at the blue channel, white means high blue intensity, and dark means low blue intensity)"
   ]
  },
  {
   "cell_type": "code",
   "execution_count": null,
   "metadata": {},
   "outputs": [],
   "source": [
    "idx=6\n",
    "\n",
    "print(data_blue.size())\n",
    "utils.show(data[idx])\n",
    "\n",
    "print('red channel')\n",
    "utils.show(data_red[idx])\n",
    "print('green channel')\n",
    "utils.show(data_green[idx])\n",
    "print('blue channel')\n",
    "utils.show(data_blue[idx])\n"
   ]
  },
  {
   "cell_type": "markdown",
   "metadata": {},
   "source": [
    "# ---------------------------------"
   ]
  },
  {
   "cell_type": "markdown",
   "metadata": {},
   "source": [
    "# Problem 3 "
   ]
  },
  {
   "cell_type": "markdown",
   "metadata": {},
   "source": [
    "### You are going to extract from the CIFAR training set all the images of bird and put them in a new tensor that you will call 'data_bird'.\n",
    "\n",
    "### To do this you first need download the label tensor, and to figure out what is the label index corresponding to the bird category. Then make a python list containing all the images of birds (start with an empty list and use the append() method to build your list). This list should contain a big collection of 3-dimensional tensors. Then use the pytorch command called \"torch.stack()\" to convert this list of 3 dimensional tensors into a 4 dimensional tensor that you will call \"data_bird\". At the end of this notebook you can find an example of how to use the torch.stack() command. "
   ]
  },
  {
   "cell_type": "code",
   "execution_count": null,
   "metadata": {},
   "outputs": [],
   "source": [
    "# complete"
   ]
  },
  {
   "cell_type": "markdown",
   "metadata": {},
   "source": [
    "### The random.randint(a,b) command select a random integer between a and b (included -- don't ask me why). So use this line of code to check that your code is correct."
   ]
  },
  {
   "cell_type": "code",
   "execution_count": null,
   "metadata": {},
   "outputs": [],
   "source": [
    "idx=random.randint(0,data_bird.size(0)-1 )\n",
    "utils.show(data_bird[idx])"
   ]
  },
  {
   "cell_type": "markdown",
   "metadata": {},
   "source": [
    "# ----------------------------------------------------------"
   ]
  },
  {
   "cell_type": "markdown",
   "metadata": {},
   "source": [
    "# How to use the torch.stack() command."
   ]
  },
  {
   "cell_type": "code",
   "execution_count": null,
   "metadata": {},
   "outputs": [],
   "source": [
    "x=torch.rand(5)\n",
    "y=torch.rand(5)\n",
    "z=torch.rand(5)\n",
    "my_list=[x,y,z]\n",
    "\n",
    "print(x)\n",
    "print(y)\n",
    "print(z)"
   ]
  },
  {
   "cell_type": "code",
   "execution_count": null,
   "metadata": {},
   "outputs": [],
   "source": [
    "A=torch.stack(my_list , dim=0)\n",
    "print(A)"
   ]
  },
  {
   "cell_type": "code",
   "execution_count": null,
   "metadata": {},
   "outputs": [],
   "source": [
    "B=torch.stack(my_list , dim=1)\n",
    "print(B)"
   ]
  }
 ],
 "metadata": {
  "kernelspec": {
   "display_name": "Python 3",
   "language": "python",
   "name": "python3"
  },
  "language_info": {
   "codemirror_mode": {
    "name": "ipython",
    "version": 3
   },
   "file_extension": ".py",
   "mimetype": "text/x-python",
   "name": "python",
   "nbconvert_exporter": "python",
   "pygments_lexer": "ipython3",
   "version": "3.7.0"
  }
 },
 "nbformat": 4,
 "nbformat_minor": 2
}
