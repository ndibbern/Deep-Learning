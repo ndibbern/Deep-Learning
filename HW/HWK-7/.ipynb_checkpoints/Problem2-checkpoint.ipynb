{
 "cells": [
  {
   "cell_type": "markdown",
   "metadata": {},
   "source": [
    "# Problem 2 "
   ]
  },
  {
   "cell_type": "markdown",
   "metadata": {},
   "source": [
    "###  Redo problem 1  but this time use Pytorch. You need to create a convolutional module with the desired weights. Set the bias to False. Then create the input image, feed it to the convolutional module and check that you obtain the same result than the one you computed by hand in the previous problem. \n",
    "\n",
    "\n",
    "* Hint 1: Use the command torch.stack() in order to build the input image and the filters. \n",
    "* Hint 2: You will need the command nn.Parameter() in order to convert tensors to parameters. \n",
    "* Hint 3: Don't forget that Pytorch only work with batch. So here you are going to do a batch of 1 image. Use the command view() in order to deal with this. \n"
   ]
  },
  {
   "cell_type": "code",
   "execution_count": 15,
   "metadata": {},
   "outputs": [],
   "source": [
    "import torch\n",
    "import torch.nn as nn\n",
    "import numpy as np"
   ]
  },
  {
   "cell_type": "code",
   "execution_count": 16,
   "metadata": {},
   "outputs": [],
   "source": [
    "mod = nn.Conv2d( 2, 2, kernel_size=2,  padding=0, bias=False )"
   ]
  },
  {
   "cell_type": "code",
   "execution_count": 17,
   "metadata": {},
   "outputs": [
    {
     "name": "stdout",
     "output_type": "stream",
     "text": [
      "Parameter containing:\n",
      "tensor([[[[ 0.,  1.],\n",
      "          [ 1.,  0.]],\n",
      "\n",
      "         [[ 1.,  0.],\n",
      "          [ 0.,  1.]]],\n",
      "\n",
      "\n",
      "        [[[ 0.,  1.],\n",
      "          [-1.,  0.]],\n",
      "\n",
      "         [[ 2.,  0.],\n",
      "          [ 0., -1.]]]], requires_grad=True)\n"
     ]
    }
   ],
   "source": [
    "filter1 = torch.Tensor([[[0,1],[1,0]],[[1,0],[0,1]]])\n",
    "filter2 = torch.Tensor([[[0,1],[-1,0]],[[2,0],[0,-1]]])\n",
    "mod.weight = nn.Parameter(torch.stack( (filter1, filter2) , dim=0 ))\n",
    "print(mod.weight)"
   ]
  },
  {
   "cell_type": "code",
   "execution_count": 18,
   "metadata": {},
   "outputs": [
    {
     "name": "stdout",
     "output_type": "stream",
     "text": [
      "tensor([[[4., 3., 2., 1.],\n",
      "         [3., 2., 1., 2.],\n",
      "         [2., 1., 2., 3.],\n",
      "         [1., 2., 3., 4.]],\n",
      "\n",
      "        [[1., 2., 3., 4.],\n",
      "         [2., 1., 2., 3.],\n",
      "         [3., 2., 1., 2.],\n",
      "         [1., 3., 2., 1.]]])\n"
     ]
    }
   ],
   "source": [
    "ch1 = torch.Tensor([[4,3,2,1], [3,2,1,2], [2,1,2,3], [1,2,3,4]])\n",
    "ch2 = torch.Tensor([[1,2,3,4], [2,1,2,3], [3,2,1,2], [1,3,2,1]])\n",
    "\n",
    "image = torch.stack( (ch1,ch2) , dim=0 ) \n",
    "print(image)"
   ]
  },
  {
   "cell_type": "code",
   "execution_count": 19,
   "metadata": {},
   "outputs": [],
   "source": [
    "y = mod(image.view(1, 2, 4, 4))"
   ]
  },
  {
   "cell_type": "code",
   "execution_count": 20,
   "metadata": {},
   "outputs": [
    {
     "name": "stdout",
     "output_type": "stream",
     "text": [
      "tensor([[[[8., 8., 8.],\n",
      "          [8., 4., 8.],\n",
      "          [8., 8., 8.]],\n",
      "\n",
      "         [[1., 2., 3.],\n",
      "          [2., 1., 2.],\n",
      "          [3., 2., 1.]]]], grad_fn=<ThnnConv2DBackward>)\n"
     ]
    }
   ],
   "source": [
    "print(y)"
   ]
  },
  {
   "cell_type": "code",
   "execution_count": 21,
   "metadata": {},
   "outputs": [
    {
     "name": "stdout",
     "output_type": "stream",
     "text": [
      "[[8 8 8 8 4 8 8 8 8]\n",
      " [1 2 3 2 1 2 3 2 1]]\n"
     ]
    }
   ],
   "source": [
    "#Problem 3\n",
    "w = [[0,1,1,0,1,0,0,1],[0,1,-1,0,2,0,0,-1]]\n",
    "x = [[4,3,2,3,2,1,2,1,2], [3,2,1,2,1,2,1,2,3], [3,2,1,2,1,2,1,2,3],[2,1,2,1,2,3,2,3,4], [1,2,3,2,1,2,3,2,1], [2,3,4,1,2,3,2,1,2], [2,1,2,3,2,1,1,3,2], [1,2,3,2,1,2,3,2,1]]\n",
    "Y = np.matmul(w, x)\n",
    "print(Y)"
   ]
  },
  {
   "cell_type": "code",
   "execution_count": null,
   "metadata": {},
   "outputs": [],
   "source": []
  }
 ],
 "metadata": {
  "kernelspec": {
   "display_name": "Python 3",
   "language": "python",
   "name": "python3"
  },
  "language_info": {
   "codemirror_mode": {
    "name": "ipython",
    "version": 3
   },
   "file_extension": ".py",
   "mimetype": "text/x-python",
   "name": "python",
   "nbconvert_exporter": "python",
   "pygments_lexer": "ipython3",
   "version": "3.7.0"
  }
 },
 "nbformat": 4,
 "nbformat_minor": 2
}
