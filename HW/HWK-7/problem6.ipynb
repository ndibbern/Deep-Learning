{
 "cells": [
  {
   "cell_type": "markdown",
   "metadata": {},
   "source": [
    "# HWK7 PROBLEM 6"
   ]
  },
  {
   "cell_type": "markdown",
   "metadata": {},
   "source": [
    "### Your goal is to train a convnet with multiple layers on SVHN and to obtain the lowest error rate possible on the test set. Try various hyperparameter (number of layers, hidden_sizes, etc...). Good luck!"
   ]
  },
  {
   "cell_type": "code",
   "execution_count": 2,
   "metadata": {},
   "outputs": [],
   "source": [
    "import torch\n",
    "import torch.nn as nn\n",
    "import torch.nn.functional as F\n",
    "import torch.optim as optim\n",
    "from random import randint\n",
    "import utils\n",
    "import time"
   ]
  },
  {
   "cell_type": "code",
   "execution_count": 3,
   "metadata": {},
   "outputs": [
    {
     "name": "stdout",
     "output_type": "stream",
     "text": [
      "cuda\n"
     ]
    }
   ],
   "source": [
    "device= torch.device(\"cuda\")\n",
    "#device= torch.device(\"cpu\")\n",
    "print(device)"
   ]
  },
  {
   "cell_type": "code",
   "execution_count": 4,
   "metadata": {},
   "outputs": [
    {
     "name": "stdout",
     "output_type": "stream",
     "text": [
      "torch.Size([73257, 3, 32, 32])\n",
      "torch.Size([26032, 3, 32, 32])\n"
     ]
    }
   ],
   "source": [
    "train_data=torch.load('../../data/svhn/train_data.pt')\n",
    "train_label=torch.load('../../data/svhn/train_label.pt')\n",
    "test_data=torch.load('../../data/svhn/test_data.pt')\n",
    "test_label=torch.load('../../data/svhn/test_label.pt')\n",
    "\n",
    "print(train_data.size())\n",
    "print(test_data.size())"
   ]
  },
  {
   "cell_type": "code",
   "execution_count": 5,
   "metadata": {},
   "outputs": [
    {
     "name": "stdout",
     "output_type": "stream",
     "text": [
      "tensor(0.4514)\n",
      "tensor(0.1993)\n"
     ]
    }
   ],
   "source": [
    "mean= train_data.mean()\n",
    "std= train_data.std()\n",
    "print(mean)\n",
    "print(std)"
   ]
  },
  {
   "cell_type": "code",
   "execution_count": 6,
   "metadata": {},
   "outputs": [],
   "source": [
    "class ten_layer_convnet(nn.Module):\n",
    "\n",
    "    def __init__(self):\n",
    "\n",
    "        super(ten_layer_convnet, self).__init__()\n",
    "\n",
    "        # block 1:         3 x 32 x 32 --> 64 x 16 x 16        \n",
    "        self.conv1a = nn.Conv2d(3,   64,  kernel_size=3, padding=1 )\n",
    "        self.conv1b = nn.Conv2d(64,  64,  kernel_size=3, padding=1 )\n",
    "        self.pool1  = nn.MaxPool2d(2,2)\n",
    "\n",
    "        # block 2:         64 x 16 x 16 --> 128 x 8 x 8\n",
    "        self.conv2a = nn.Conv2d(64,  128, kernel_size=3, padding=1 )\n",
    "        self.conv2b = nn.Conv2d(128, 128, kernel_size=3, padding=1 )\n",
    "        self.pool2  = nn.MaxPool2d(2,2)\n",
    "\n",
    "        # block 3:         128 x 8 x 8 --> 256 x 4 x 4        \n",
    "        self.conv3a = nn.Conv2d(128, 256, kernel_size=3, padding=1 )\n",
    "        self.conv3b = nn.Conv2d(256, 256, kernel_size=3, padding=1 )\n",
    "        self.pool3  = nn.MaxPool2d(2,2)\n",
    "        \n",
    "        #block 4:          256 x 4 x 4 --> 512 x 2 x 2\n",
    "        self.conv4a = nn.Conv2d(256, 512, kernel_size=3, padding=1 )\n",
    "        self.pool4  = nn.MaxPool2d(2,2)\n",
    "\n",
    "        # linear layers:   512 x 2 x 2 --> 2048 --> 4096 --> 4096 --> 10\n",
    "        self.linear1 = nn.Linear(2048, 4096)\n",
    "        self.linear2 = nn.Linear(4096,4096)\n",
    "        self.linear3 = nn.Linear(4096, 10)\n",
    "\n",
    "\n",
    "    def forward(self, x):\n",
    "\n",
    "        # block 1:         3 x 32 x 32 --> 64 x 16 x 16\n",
    "        x = self.conv1a(x)\n",
    "        x = F.relu(x)\n",
    "        x = self.conv1b(x)\n",
    "        x = F.relu(x)\n",
    "        x = self.pool1(x)\n",
    "\n",
    "        # block 2:         64 x 16 x 16 --> 128 x 8 x 8\n",
    "        x = self.conv2a(x)\n",
    "        x = F.relu(x)\n",
    "        x = self.conv2b(x)\n",
    "        x = F.relu(x)\n",
    "        x = self.pool2(x)\n",
    "\n",
    "        # block 3:         128 x 8 x 8 --> 256 x 4 x 4\n",
    "        x = self.conv3a(x)\n",
    "        x = F.relu(x)\n",
    "        x = self.conv3b(x)\n",
    "        x = F.relu(x)\n",
    "        x = self.pool3(x)\n",
    "\n",
    "        #block 4:          256 x 4 x 4 --> 512 x 2 x 2\n",
    "        x = self.conv4a(x)\n",
    "        x = F.relu(x)\n",
    "        x = self.pool4(x)\n",
    "\n",
    "        # linear layers:   512 x 2 x 2 --> 2048 --> 4096 --> 4096 --> 10\n",
    "        x = x.view(-1, 2048)\n",
    "        x = self.linear1(x)\n",
    "        x = F.relu(x)\n",
    "        x = self.linear2(x)\n",
    "        x = F.relu(x)\n",
    "        x = self.linear3(x) \n",
    "        \n",
    "        return x"
   ]
  },
  {
   "cell_type": "code",
   "execution_count": 7,
   "metadata": {},
   "outputs": [
    {
     "name": "stdout",
     "output_type": "stream",
     "text": [
      "ten_layer_convnet(\n",
      "  (conv1a): Conv2d(3, 64, kernel_size=(3, 3), stride=(1, 1), padding=(1, 1))\n",
      "  (conv1b): Conv2d(64, 64, kernel_size=(3, 3), stride=(1, 1), padding=(1, 1))\n",
      "  (pool1): MaxPool2d(kernel_size=2, stride=2, padding=0, dilation=1, ceil_mode=False)\n",
      "  (conv2a): Conv2d(64, 128, kernel_size=(3, 3), stride=(1, 1), padding=(1, 1))\n",
      "  (conv2b): Conv2d(128, 128, kernel_size=(3, 3), stride=(1, 1), padding=(1, 1))\n",
      "  (pool2): MaxPool2d(kernel_size=2, stride=2, padding=0, dilation=1, ceil_mode=False)\n",
      "  (conv3a): Conv2d(128, 256, kernel_size=(3, 3), stride=(1, 1), padding=(1, 1))\n",
      "  (conv3b): Conv2d(256, 256, kernel_size=(3, 3), stride=(1, 1), padding=(1, 1))\n",
      "  (pool3): MaxPool2d(kernel_size=2, stride=2, padding=0, dilation=1, ceil_mode=False)\n",
      "  (conv4a): Conv2d(256, 512, kernel_size=(3, 3), stride=(1, 1), padding=(1, 1))\n",
      "  (pool4): MaxPool2d(kernel_size=2, stride=2, padding=0, dilation=1, ceil_mode=False)\n",
      "  (linear1): Linear(in_features=2048, out_features=4096, bias=True)\n",
      "  (linear2): Linear(in_features=4096, out_features=4096, bias=True)\n",
      "  (linear3): Linear(in_features=4096, out_features=10, bias=True)\n",
      ")\n",
      "There are 27540554 (27.54 million) parameters in this neural network\n"
     ]
    }
   ],
   "source": [
    "net=ten_layer_convnet()\n",
    "\n",
    "print(net)\n",
    "utils.display_num_param(net)"
   ]
  },
  {
   "cell_type": "code",
   "execution_count": 8,
   "metadata": {},
   "outputs": [],
   "source": [
    "net = net.to(device)\n",
    "\n",
    "mean=mean.to(device)\n",
    "\n",
    "std=std.to(device)"
   ]
  },
  {
   "cell_type": "code",
   "execution_count": 9,
   "metadata": {},
   "outputs": [],
   "source": [
    "criterion = nn.CrossEntropyLoss()\n",
    "my_lr=0.25 \n",
    "bs= 128"
   ]
  },
  {
   "cell_type": "code",
   "execution_count": 11,
   "metadata": {},
   "outputs": [],
   "source": [
    "def eval_on_test_set():\n",
    "\n",
    "    running_error=0\n",
    "    num_batches=0\n",
    "    \n",
    "    with torch.no_grad():    \n",
    "\n",
    "        for i in range(0,26032,bs):\n",
    "\n",
    "            minibatch_data =  test_data[i:i+bs]\n",
    "            minibatch_label= test_label[i:i+bs]\n",
    "\n",
    "            minibatch_data=minibatch_data.to(device)\n",
    "            minibatch_label=minibatch_label.to(device)\n",
    "\n",
    "            inputs = (minibatch_data - mean)/std\n",
    "\n",
    "            scores=net( inputs ) \n",
    "\n",
    "            error = utils.get_error( scores , minibatch_label)\n",
    "\n",
    "            running_error += error.item()\n",
    "\n",
    "            num_batches+=1\n",
    "\n",
    "    total_error = running_error/num_batches\n",
    "    print( 'error rate on test set =', total_error*100 ,'percent')"
   ]
  },
  {
   "cell_type": "code",
   "execution_count": 12,
   "metadata": {},
   "outputs": [
    {
     "name": "stdout",
     "output_type": "stream",
     "text": [
      "epoch= 1 \t time= 1.8183464964230855 min \t lr= 0.25 \t loss= 2.2385869400663525 \t error= 81.07824006213775 percent\n",
      "error rate on test set = 80.40875202300501 percent\n",
      " \n",
      "epoch= 2 \t time= 3.8187473376592 min \t lr= 0.25 \t loss= 2.2102408750311033 \t error= 79.84230010713375 percent\n",
      "error rate on test set = 68.6223447615025 percent\n",
      " \n",
      "epoch= 3 \t time= 5.818217122554779 min \t lr= 0.25 \t loss= 0.9094018080315664 \t error= 30.309560296839237 percent\n",
      "error rate on test set = 15.724571078431374 percent\n",
      " \n",
      "epoch= 4 \t time= 7.823861436049143 min \t lr= 0.25 \t loss= 0.3070983890749605 \t error= 9.138426876400986 percent\n",
      "error rate on test set = 11.72002653280894 percent\n",
      " \n",
      "epoch= 5 \t time= 9.823185336589813 min \t lr= 0.25 \t loss= 0.22062936127445876 \t error= 6.359573871053326 percent\n",
      "error rate on test set = 7.900582107843138 percent\n",
      " \n",
      "epoch= 6 \t time= 11.826455307006835 min \t lr= 0.25 \t loss= 0.1686639352417169 \t error= 4.773895424281947 percent\n",
      "error rate on test set = 9.754136029411764 percent\n",
      " \n",
      "epoch= 7 \t time= 13.825397169589996 min \t lr= 0.25 \t loss= 0.12906090343406793 \t error= 3.628274918018627 percent\n",
      "error rate on test set = 7.1512458955540374 percent\n",
      " \n",
      "epoch= 8 \t time= 15.826502815882366 min \t lr= 0.25 \t loss= 0.09857473010928687 \t error= 2.86458334373554 percent\n",
      "error rate on test set = 6.666156036012313 percent\n",
      " \n",
      "epoch= 9 \t time= 17.824002067248028 min \t lr= 0.25 \t loss= 0.07748242277801556 \t error= 2.268927186779535 percent\n",
      "error rate on test set = 7.72314133012996 percent\n",
      " \n",
      "epoch= 10 \t time= 19.826581700642905 min \t lr= 0.125 \t loss= 0.022540433246180755 \t error= 0.64507247473765 percent\n",
      "error rate on test set = 6.756791238691292 percent\n",
      " \n",
      "epoch= 11 \t time= 21.821514944235485 min \t lr= 0.125 \t loss= 0.007334634494263984 \t error= 0.1963350889362382 percent\n",
      "error rate on test set = 6.759344362745098 percent\n",
      " \n",
      "epoch= 12 \t time= 23.823490488529206 min \t lr= 0.125 \t loss= 0.0037384898839420908 \t error= 0.0927137974877216 percent\n",
      "error rate on test set = 5.745761826926587 percent\n",
      " \n",
      "epoch= 13 \t time= 25.81996165116628 min \t lr= 0.125 \t loss= 0.0008175034319853327 \t error= 0.017724704992084603 percent\n",
      "error rate on test set = 5.692146630848155 percent\n",
      " \n",
      "epoch= 14 \t time= 27.8201677719752 min \t lr= 0.0625 \t loss= 0.000559326417822989 \t error= 0.01227095281058373 percent\n",
      "error rate on test set = 5.630872121044233 percent\n",
      " \n",
      "epoch= 15 \t time= 29.815775378545126 min \t lr= 0.0625 \t loss= 0.00019609160603604211 \t error= 0.0027268864929572032 percent\n",
      "error rate on test set = 5.600234866142273 percent\n",
      " \n",
      "epoch= 16 \t time= 31.81345013777415 min \t lr= 0.0625 \t loss= 0.00016970272831540759 \t error= 0.004090324538332421 percent\n",
      "error rate on test set = 5.596405209279528 percent\n",
      " \n",
      "epoch= 17 \t time= 33.80792606274287 min \t lr= 0.0625 \t loss= 0.0001517703631975366 \t error= 0.00545376258370764 percent\n",
      "error rate on test set = 5.577256924965803 percent\n",
      " \n",
      "epoch= 18 \t time= 35.80641051530838 min \t lr= 0.03125 \t loss= 0.00010249322925740101 \t error= 0.0027268864929572032 percent\n",
      "error rate on test set = 5.615553493593254 percent\n",
      " \n",
      "epoch= 19 \t time= 37.80114513238271 min \t lr= 0.03125 \t loss= 9.226281303354907e-05 \t error= 0.0027268864929572032 percent\n",
      "error rate on test set = 5.5887458955540374 percent\n",
      " \n"
     ]
    }
   ],
   "source": [
    "start=time.time()\n",
    "\n",
    "for epoch in range(1,20):\n",
    "    \n",
    "    # divide the learning rate by 2 at epoch 10, 14 and 18\n",
    "    if epoch==10 or epoch == 14 or epoch==18:\n",
    "        my_lr = my_lr / 2\n",
    "    \n",
    "    # create a new optimizer at the beginning of each epoch: give the current learning rate.   \n",
    "    optimizer=torch.optim.SGD( net.parameters() , lr=my_lr )\n",
    "        \n",
    "    # set the running quatities to zero at the beginning of the epoch\n",
    "    running_loss=0\n",
    "    running_error=0\n",
    "    num_batches=0\n",
    "    \n",
    "    # set the order in which to visit the image from the training set\n",
    "    shuffled_indices=torch.randperm(73257)\n",
    " \n",
    "    for count in range(0,73257,bs):\n",
    "    \n",
    "        # Set the gradients to zeros\n",
    "        optimizer.zero_grad()\n",
    "        \n",
    "        # create a minibatch       \n",
    "        indices=shuffled_indices[count:count+bs]\n",
    "        minibatch_data =  train_data[indices]\n",
    "        minibatch_label=  train_label[indices]\n",
    "        \n",
    "        # send them to the gpu\n",
    "        minibatch_data=minibatch_data.to(device)\n",
    "        minibatch_label=minibatch_label.to(device)\n",
    "        \n",
    "        # normalize the minibatch \n",
    "        inputs = (minibatch_data - mean)/std\n",
    "        \n",
    "        # tell Pytorch to start tracking all operations that will be done on \"inputs\"\n",
    "        inputs.requires_grad_()\n",
    "\n",
    "        # forward the minibatch through the net \n",
    "        scores=net( inputs ) \n",
    "\n",
    "        # Compute the average of the losses of the data points in the minibatch\n",
    "        loss =  criterion( scores , minibatch_label) \n",
    "        \n",
    "        # backward pass to compute dL/dU, dL/dV and dL/dW   \n",
    "        loss.backward()\n",
    "\n",
    "        # do one step of stochastic gradient descent: U=U-lr(dL/dU), V=V-lr(dL/dU), ...\n",
    "        optimizer.step()\n",
    "        \n",
    "        # COMPUTE STATS\n",
    "        num_batches+=1\n",
    "        with torch.no_grad():\n",
    "            running_loss += loss.item()\n",
    "            error = utils.get_error( scores , minibatch_label)\n",
    "            running_error += error.item()  \n",
    "              \n",
    "    \n",
    "    # compute stats for the full training set\n",
    "    total_loss = running_loss/num_batches\n",
    "    total_error = running_error/num_batches\n",
    "    elapsed = (time.time()-start)/60\n",
    "    \n",
    "\n",
    "    print('epoch=',epoch, '\\t time=', elapsed,'min','\\t lr=', my_lr  ,'\\t loss=', total_loss , '\\t error=', total_error*100 ,'percent')\n",
    "    eval_on_test_set() \n",
    "    print(' ')\n",
    "    \n",
    "           "
   ]
  },
  {
   "cell_type": "code",
   "execution_count": null,
   "metadata": {},
   "outputs": [],
   "source": []
  },
  {
   "cell_type": "code",
   "execution_count": null,
   "metadata": {},
   "outputs": [],
   "source": []
  }
 ],
 "metadata": {
  "kernelspec": {
   "display_name": "Python 3",
   "language": "python",
   "name": "python3"
  },
  "language_info": {
   "codemirror_mode": {
    "name": "ipython",
    "version": 3
   },
   "file_extension": ".py",
   "mimetype": "text/x-python",
   "name": "python",
   "nbconvert_exporter": "python",
   "pygments_lexer": "ipython3",
   "version": "3.7.0"
  }
 },
 "nbformat": 4,
 "nbformat_minor": 2
}
