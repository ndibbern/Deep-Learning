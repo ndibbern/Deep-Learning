{
 "cells": [
  {
   "cell_type": "markdown",
   "metadata": {},
   "source": [
    "# HWK7 PROBLEM 7"
   ]
  },
  {
   "cell_type": "markdown",
   "metadata": {},
   "source": [
    "### Your goal is to train a convnet with multiple layers on fashion-MNIST and to obtain the lowest error rate possible on the test set. Try various hyperparameter (number of layers, hidden_sizes, etc...). Good luck!"
   ]
  },
  {
   "cell_type": "code",
   "execution_count": 102,
   "metadata": {},
   "outputs": [],
   "source": [
    "import torch\n",
    "import torch.nn as nn\n",
    "import torch.nn.functional as F\n",
    "import torch.optim as optim\n",
    "from random import randint\n",
    "import utils\n",
    "import time"
   ]
  },
  {
   "cell_type": "code",
   "execution_count": 103,
   "metadata": {},
   "outputs": [
    {
     "name": "stdout",
     "output_type": "stream",
     "text": [
      "cuda\n"
     ]
    }
   ],
   "source": [
    "device= torch.device(\"cuda\")\n",
    "#device= torch.device(\"cpu\")\n",
    "print(device)"
   ]
  },
  {
   "cell_type": "code",
   "execution_count": 104,
   "metadata": {},
   "outputs": [
    {
     "name": "stdout",
     "output_type": "stream",
     "text": [
      "torch.Size([60000, 28, 28])\n",
      "torch.Size([10000, 28, 28])\n"
     ]
    }
   ],
   "source": [
    "train_data=torch.load('../../data/fashion-mnist/train_data.pt')\n",
    "train_label=torch.load('../../data/fashion-mnist/train_label.pt')\n",
    "test_data=torch.load('../../data/fashion-mnist/test_data.pt')\n",
    "test_label=torch.load('../../data/fashion-mnist/test_label.pt')\n",
    "\n",
    "print(train_data.size())\n",
    "print(test_data.size())"
   ]
  },
  {
   "cell_type": "code",
   "execution_count": 105,
   "metadata": {},
   "outputs": [
    {
     "name": "stdout",
     "output_type": "stream",
     "text": [
      "tensor(0.2860)\n",
      "tensor(0.3530)\n"
     ]
    }
   ],
   "source": [
    "mean= train_data.mean()\n",
    "std= train_data.std()\n",
    "print(mean)\n",
    "print(std)"
   ]
  },
  {
   "cell_type": "code",
   "execution_count": 106,
   "metadata": {},
   "outputs": [],
   "source": [
    "class ten_layer_convnet(nn.Module):\n",
    "\n",
    "    def __init__(self):\n",
    "\n",
    "        super(ten_layer_convnet, self).__init__()\n",
    "\n",
    "        # block 1:         1 x 28 x 28 --> 64 x 14 x 14        \n",
    "        self.conv1a = nn.Conv2d(1,   64,  kernel_size=3, padding=1 )\n",
    "        self.conv1b = nn.Conv2d(64,  64,  kernel_size=3, padding=1 )\n",
    "        self.pool1  = nn.MaxPool2d(2,2)\n",
    "\n",
    "        # block 2:         64 x 14 x 14 --> 128 x 7 x 7\n",
    "        self.conv2a = nn.Conv2d(64,  128, kernel_size=3, padding=1 )\n",
    "        self.conv2b = nn.Conv2d(128, 128, kernel_size=3, padding=1 )\n",
    "        self.pool2  = nn.MaxPool2d(7,7)\n",
    "\n",
    "        # linear layers:   128 x 2 x 2 --> 512 --> 1024 --> 1024 --> 10\n",
    "        self.linear1 = nn.Linear(512, 1024)\n",
    "        self.linear2 = nn.Linear(1024,1024)\n",
    "        self.linear3 = nn.Linear(1024, 10)\n",
    "\n",
    "\n",
    "    def forward(self, x):\n",
    "\n",
    "        # block 1:         1 x 28 x 28 --> 64 x 14 x 14\n",
    "        x = self.conv1a(x)\n",
    "        x = F.relu(x)\n",
    "        x = self.conv1b(x)\n",
    "        x = F.relu(x)\n",
    "        x = self.pool1(x)\n",
    "        # block 2:         64 x 14 x 14 --> 128 x 7 x 7\n",
    "        x = self.conv2a(x)\n",
    "        x = F.relu(x)\n",
    "        x = self.conv2b(x)\n",
    "        x = F.relu(x)\n",
    "        x = self.pool2(x)\n",
    "\n",
    "        # linear layers:   128 x 2 x 2 --> 512 --> 1024 --> 1024 --> 10\n",
    "        x = x.view(-1, 512)\n",
    "        x = self.linear1(x)\n",
    "        x = F.relu(x)\n",
    "        x = self.linear2(x)\n",
    "        x = F.relu(x)\n",
    "        x = self.linear3(x) \n",
    "        \n",
    "        return x"
   ]
  },
  {
   "cell_type": "code",
   "execution_count": 107,
   "metadata": {},
   "outputs": [
    {
     "name": "stdout",
     "output_type": "stream",
     "text": [
      "ten_layer_convnet(\n",
      "  (conv1a): Conv2d(1, 64, kernel_size=(3, 3), stride=(1, 1), padding=(1, 1))\n",
      "  (conv1b): Conv2d(64, 64, kernel_size=(3, 3), stride=(1, 1), padding=(1, 1))\n",
      "  (pool1): MaxPool2d(kernel_size=2, stride=2, padding=0, dilation=1, ceil_mode=False)\n",
      "  (conv2a): Conv2d(64, 128, kernel_size=(3, 3), stride=(1, 1), padding=(1, 1))\n",
      "  (conv2b): Conv2d(128, 128, kernel_size=(3, 3), stride=(1, 1), padding=(1, 1))\n",
      "  (pool2): MaxPool2d(kernel_size=7, stride=7, padding=0, dilation=1, ceil_mode=False)\n",
      "  (linear1): Linear(in_features=512, out_features=1024, bias=True)\n",
      "  (linear2): Linear(in_features=1024, out_features=1024, bias=True)\n",
      "  (linear3): Linear(in_features=1024, out_features=10, bias=True)\n",
      ")\n"
     ]
    }
   ],
   "source": [
    "net=ten_layer_convnet()\n",
    "\n",
    "print(net)"
   ]
  },
  {
   "cell_type": "code",
   "execution_count": 108,
   "metadata": {},
   "outputs": [],
   "source": [
    "net = net.to(device)\n",
    "\n",
    "mean=mean.to(device)\n",
    "\n",
    "std=std.to(device)"
   ]
  },
  {
   "cell_type": "code",
   "execution_count": 109,
   "metadata": {},
   "outputs": [],
   "source": [
    "criterion = nn.CrossEntropyLoss()\n",
    "my_lr=0.25 \n",
    "bs= 100"
   ]
  },
  {
   "cell_type": "code",
   "execution_count": 110,
   "metadata": {},
   "outputs": [],
   "source": [
    "def eval_on_test_set():\n",
    "\n",
    "    running_error=0\n",
    "    num_batches=0\n",
    "    \n",
    "    with torch.no_grad():    \n",
    "\n",
    "        for i in range(0,1000,bs):\n",
    "\n",
    "            minibatch_data =  test_data[i:i+bs]\n",
    "            minibatch_label= test_label[i:i+bs]\n",
    "\n",
    "            minibatch_data=minibatch_data.to(device)\n",
    "            minibatch_label=minibatch_label.to(device)\n",
    "\n",
    "            inputs = (minibatch_data - mean)/std\n",
    "\n",
    "            scores=net(inputs.view(bs,1, 28,28) ) \n",
    "\n",
    "            error = utils.get_error( scores , minibatch_label)\n",
    "\n",
    "            running_error += error.item()\n",
    "\n",
    "            num_batches+=1\n",
    "\n",
    "    total_error = running_error/num_batches\n",
    "    print( 'error rate on test set =', total_error*100 ,'percent')"
   ]
  },
  {
   "cell_type": "code",
   "execution_count": 111,
   "metadata": {},
   "outputs": [
    {
     "name": "stdout",
     "output_type": "stream",
     "text": [
      "epoch= 1 \t time= 0.32942428986231487 min \t lr= 0.25 \t loss= 0.9330022667100032 \t error= 34.996668219566345 percent\n",
      "error rate on test set = 19.200002551078796 percent\n",
      " \n",
      "epoch= 2 \t time= 0.6638630509376526 min \t lr= 0.25 \t loss= 0.3477637661496798 \t error= 12.950002123912174 percent\n",
      "error rate on test set = 11.200001835823059 percent\n",
      " \n",
      "epoch= 3 \t time= 0.9985509792963664 min \t lr= 0.25 \t loss= 0.27775863132129114 \t error= 10.543335417906444 percent\n",
      "error rate on test set = 10.300002694129944 percent\n",
      " \n",
      "epoch= 4 \t time= 1.3314709583918254 min \t lr= 0.25 \t loss= 0.23802630470444758 \t error= 8.756668448448181 percent\n",
      "error rate on test set = 10.000001192092896 percent\n",
      " \n",
      "epoch= 5 \t time= 1.6647847652435304 min \t lr= 0.25 \t loss= 0.210462295897305 \t error= 7.883335173130035 percent\n",
      "error rate on test set = 9.900001883506775 percent\n",
      " \n",
      "epoch= 6 \t time= 1.9971109986305238 min \t lr= 0.25 \t loss= 0.18798616617918015 \t error= 7.045001824696858 percent\n",
      "error rate on test set = 8.400001525878906 percent\n",
      " \n",
      "epoch= 7 \t time= 2.3298306425412494 min \t lr= 0.25 \t loss= 0.17105298122391105 \t error= 6.378335028886795 percent\n",
      "error rate on test set = 8.200001120567322 percent\n",
      " \n",
      "epoch= 8 \t time= 2.662023111184438 min \t lr= 0.25 \t loss= 0.15681928688039382 \t error= 5.883335053920746 percent\n",
      "error rate on test set = 6.3000017404556266 percent\n",
      " \n",
      "epoch= 9 \t time= 2.994101047515869 min \t lr= 0.25 \t loss= 0.1413196218603601 \t error= 5.256668517986934 percent\n",
      "error rate on test set = 7.600002288818359 percent\n",
      " \n",
      "epoch= 10 \t time= 3.3265969276428224 min \t lr= 0.125 \t loss= 0.09411662948938708 \t error= 3.513335953156153 percent\n",
      "error rate on test set = 6.500002145767211 percent\n",
      " \n",
      "epoch= 11 \t time= 3.6592132846514382 min \t lr= 0.125 \t loss= 0.07912670613421748 \t error= 3.0000029106934867 percent\n",
      "error rate on test set = 6.600002646446228 percent\n",
      " \n",
      "epoch= 12 \t time= 3.991425915559133 min \t lr= 0.125 \t loss= 0.0669335016507345 \t error= 2.5683364371458692 percent\n",
      "error rate on test set = 7.10000216960907 percent\n",
      " \n",
      "epoch= 13 \t time= 4.323995244503021 min \t lr= 0.125 \t loss= 0.05710006348323077 \t error= 2.143336455027262 percent\n",
      "error rate on test set = 6.600002646446228 percent\n",
      " \n",
      "epoch= 14 \t time= 4.6558764457702635 min \t lr= 0.0625 \t loss= 0.030894593719858678 \t error= 1.0516695876916249 percent\n",
      "error rate on test set = 6.500002145767211 percent\n",
      " \n",
      "epoch= 15 \t time= 4.988382720947266 min \t lr= 0.0625 \t loss= 0.02176470876011687 \t error= 0.7250024477640787 percent\n",
      "error rate on test set = 7.0000022649765015 percent\n",
      " \n",
      "epoch= 16 \t time= 5.31995044151942 min \t lr= 0.0625 \t loss= 0.016108774922516507 \t error= 0.508335252602895 percent\n",
      "error rate on test set = 7.000001668930053 percent\n",
      " \n",
      "epoch= 17 \t time= 5.651061503092448 min \t lr= 0.0625 \t loss= 0.011422209755110088 \t error= 0.2950012683868408 percent\n",
      "error rate on test set = 7.300001978874207 percent\n",
      " \n",
      "epoch= 18 \t time= 5.983217179775238 min \t lr= 0.03125 \t loss= 0.0055776501339278185 \t error= 0.09666714072227478 percent\n",
      "error rate on test set = 6.600002646446228 percent\n",
      " \n",
      "epoch= 19 \t time= 6.314920878410339 min \t lr= 0.03125 \t loss= 0.0036319652116071667 \t error= 0.051666925350824996 percent\n",
      "error rate on test set = 6.600002646446228 percent\n",
      " \n"
     ]
    }
   ],
   "source": [
    "start=time.time()\n",
    "\n",
    "for epoch in range(1,20):\n",
    "    \n",
    "    # divide the learning rate by 2 at epoch 10, 14 and 18\n",
    "    if epoch==10 or epoch == 14 or epoch==18:\n",
    "        my_lr = my_lr / 2\n",
    "    \n",
    "    # create a new optimizer at the beginning of each epoch: give the current learning rate.   \n",
    "    optimizer=torch.optim.SGD( net.parameters() , lr=my_lr )\n",
    "        \n",
    "    # set the running quatities to zero at the beginning of the epoch\n",
    "    running_loss=0\n",
    "    running_error=0\n",
    "    num_batches=0\n",
    "    \n",
    "    # set the order in which to visit the image from the training set\n",
    "    shuffled_indices=torch.randperm(60000)\n",
    " \n",
    "    for count in range(0,60000,bs):\n",
    "    \n",
    "        # Set the gradients to zeros\n",
    "        optimizer.zero_grad()\n",
    "        \n",
    "        # create a minibatch       \n",
    "        indices=shuffled_indices[count:count+bs]\n",
    "        minibatch_data =  train_data[indices]\n",
    "        minibatch_label=  train_label[indices]\n",
    "        \n",
    "        # send them to the gpu\n",
    "        minibatch_data=minibatch_data.to(device)\n",
    "        minibatch_label=minibatch_label.to(device)\n",
    "        \n",
    "        # normalize the minibatch \n",
    "        inputs = (minibatch_data - mean)/std\n",
    "        \n",
    "        # tell Pytorch to start tracking all operations that will be done on \"inputs\"\n",
    "        inputs.requires_grad_()\n",
    "\n",
    "        # forward the minibatch through the net \n",
    "        scores=net( inputs.view(bs, 1, 28,28) ) \n",
    "\n",
    "        # Compute the average of the losses of the data points in the minibatch\n",
    "        loss =  criterion( scores , minibatch_label) \n",
    "        \n",
    "        # backward pass to compute dL/dU, dL/dV and dL/dW   \n",
    "        loss.backward()\n",
    "\n",
    "        # do one step of stochastic gradient descent: U=U-lr(dL/dU), V=V-lr(dL/dU), ...\n",
    "        optimizer.step()\n",
    "        \n",
    "        # COMPUTE STATS\n",
    "        num_batches+=1\n",
    "        with torch.no_grad():\n",
    "            running_loss += loss.item()\n",
    "            error = utils.get_error( scores , minibatch_label)\n",
    "            running_error += error.item()  \n",
    "              \n",
    "    \n",
    "    # compute stats for the full training set\n",
    "    total_loss = running_loss/num_batches\n",
    "    total_error = running_error/num_batches\n",
    "    elapsed = (time.time()-start)/60\n",
    "    \n",
    "\n",
    "    print('epoch=',epoch, '\\t time=', elapsed,'min','\\t lr=', my_lr  ,'\\t loss=', total_loss , '\\t error=', total_error*100 ,'percent')\n",
    "    eval_on_test_set() \n",
    "    print(' ')"
   ]
  },
  {
   "cell_type": "code",
   "execution_count": null,
   "metadata": {},
   "outputs": [],
   "source": []
  },
  {
   "cell_type": "code",
   "execution_count": null,
   "metadata": {},
   "outputs": [],
   "source": []
  },
  {
   "cell_type": "code",
   "execution_count": null,
   "metadata": {},
   "outputs": [],
   "source": []
  }
 ],
 "metadata": {
  "kernelspec": {
   "display_name": "Python 3",
   "language": "python",
   "name": "python3"
  },
  "language_info": {
   "codemirror_mode": {
    "name": "ipython",
    "version": 3
   },
   "file_extension": ".py",
   "mimetype": "text/x-python",
   "name": "python",
   "nbconvert_exporter": "python",
   "pygments_lexer": "ipython3",
   "version": "3.7.0"
  }
 },
 "nbformat": 4,
 "nbformat_minor": 2
}
