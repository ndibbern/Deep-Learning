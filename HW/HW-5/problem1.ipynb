{
 "cells": [
  {
   "cell_type": "markdown",
   "metadata": {},
   "source": [
    "# HWK 5 PROBLEM 1"
   ]
  },
  {
   "cell_type": "code",
   "execution_count": 19,
   "metadata": {},
   "outputs": [],
   "source": [
    "import torch\n",
    "import torch.nn as nn\n",
    "import torch.nn.functional as F"
   ]
  },
  {
   "cell_type": "markdown",
   "metadata": {},
   "source": [
    "### The binary hinge loss criterion is not implemented in pytorch, so we have to implement it ourselves. Try to understand the code below:"
   ]
  },
  {
   "cell_type": "code",
   "execution_count": 20,
   "metadata": {},
   "outputs": [],
   "source": [
    "def HingeLossCriterion(scores,labels):\n",
    "    \"\"\"\n",
    "    scores is a bs-by-1 FloatTensor that contains a batch of scores\n",
    "    labels is a LongTensor of size bs that contains a batch of labels\n",
    "    \"\"\"\n",
    "    return F.relu(1-scores.view(labels.size())*labels.float()).mean()"
   ]
  },
  {
   "cell_type": "markdown",
   "metadata": {},
   "source": [
    "### Let's check that the Criterion works properly:"
   ]
  },
  {
   "cell_type": "code",
   "execution_count": 21,
   "metadata": {},
   "outputs": [
    {
     "name": "stdout",
     "output_type": "stream",
     "text": [
      "tensor([[ 0.7000],\n",
      "        [-0.1000]])\n",
      "tensor([ 1, -1])\n"
     ]
    }
   ],
   "source": [
    "scores = torch.Tensor([0.7,-0.1]).view(2,1)\n",
    "labels = torch.LongTensor([+1,-1])\n",
    "print(scores)\n",
    "print(labels)"
   ]
  },
  {
   "cell_type": "markdown",
   "metadata": {},
   "source": [
    "### Note that the loss on this batch of scores should be: $ \\frac{1}{2} \\left( 0.3 + 0.9 \\right) =0.6 $ and indeed, our criterion compute it correctly:"
   ]
  },
  {
   "cell_type": "code",
   "execution_count": 22,
   "metadata": {},
   "outputs": [
    {
     "data": {
      "text/plain": [
       "tensor(0.6000)"
      ]
     },
     "execution_count": 22,
     "metadata": {},
     "output_type": "execute_result"
    }
   ],
   "source": [
    "HingeLossCriterion(scores,labels)"
   ]
  },
  {
   "cell_type": "markdown",
   "metadata": {},
   "source": [
    "### Make the 2 layer net described in the hwk:"
   ]
  },
  {
   "cell_type": "code",
   "execution_count": 23,
   "metadata": {},
   "outputs": [
    {
     "name": "stdout",
     "output_type": "stream",
     "text": [
      "two_layer_net(\n",
      "  (layer1): Linear(in_features=2, out_features=2, bias=False)\n",
      "  (layer2): Linear(in_features=2, out_features=1, bias=False)\n",
      ")\n"
     ]
    }
   ],
   "source": [
    "class two_layer_net(nn.Module):\n",
    "\n",
    "    def __init__(self, input_size, hidden_size,  output_size):\n",
    "        super().__init__()\n",
    "        \n",
    "        self.layer1 = nn.Linear(input_size, hidden_size, bias=False)\n",
    "        self.layer2 = nn.Linear(hidden_size, output_size, bias=False)\n",
    "        \n",
    "    def forward(self, x): \n",
    "        \n",
    "        x = self.layer1(x)\n",
    "        x = F.relu(x)\n",
    "        scores = self.layer2(x)\n",
    "        \n",
    "        \n",
    "        return scores\n",
    "    \n",
    "    \n",
    "net = two_layer_net(2, 2, 1)\n",
    "print(net)"
   ]
  },
  {
   "cell_type": "markdown",
   "metadata": {},
   "source": [
    "### Set up the weights manually so that they are:\n",
    " $$\n",
    "U = \\begin{bmatrix}\n",
    "0 & 1 \\\\\n",
    "1 & 0\n",
    "\\end{bmatrix} \\qquad  \\text{and} \\qquad\n",
    "V = \\begin{bmatrix}\n",
    "\\frac{1}{4} & -\\frac{1}{2} \n",
    "\\end{bmatrix}\n",
    "$$"
   ]
  },
  {
   "cell_type": "code",
   "execution_count": 30,
   "metadata": {},
   "outputs": [
    {
     "name": "stdout",
     "output_type": "stream",
     "text": [
      "Parameter containing:\n",
      "tensor([[0., 1.],\n",
      "        [1., 0.]], grad_fn=<CopySlices>)\n",
      "Parameter containing:\n",
      "tensor([[ 0.2500, -0.5000]], requires_grad=True)\n"
     ]
    }
   ],
   "source": [
    "net.layer1.weight.data = torch.Tensor([[0,1], [1,0]])\n",
    "net.layer2.weight.data = torch.Tensor([[0.25, -0.5]])\n",
    "print(net.layer1.weight)\n",
    "print(net.layer2.weight)"
   ]
  },
  {
   "cell_type": "code",
   "execution_count": 31,
   "metadata": {},
   "outputs": [
    {
     "data": {
      "text/plain": [
       "tensor([[0., 1.],\n",
       "        [1., 0.]])"
      ]
     },
     "execution_count": 31,
     "metadata": {},
     "output_type": "execute_result"
    }
   ],
   "source": [
    "net.layer1.weight.data"
   ]
  },
  {
   "cell_type": "markdown",
   "metadata": {},
   "source": [
    "### Make a tensor train\\_data and a tensor train\\_label containing the training set. Make sure that your tensors have the right sizes and the right type! Remember that in pytorch, dimension 0 is the batch dimension. "
   ]
  },
  {
   "cell_type": "code",
   "execution_count": 32,
   "metadata": {},
   "outputs": [
    {
     "name": "stdout",
     "output_type": "stream",
     "text": [
      "tensor([[-1.,  2.],\n",
      "        [-1.,  5.],\n",
      "        [-1., -1.],\n",
      "        [ 1.,  1.]])\n",
      "tensor([ 1.,  1., -1., -1.])\n"
     ]
    }
   ],
   "source": [
    "train_data = torch.Tensor([[-1,2],[-1,5],[-1,-1],[1,1]])\n",
    "print(train_data)\n",
    "train_label= torch.Tensor([1,1,-1,-1])\n",
    "print(train_label)"
   ]
  },
  {
   "cell_type": "markdown",
   "metadata": {},
   "source": [
    "### Compute the loss on the minibatch that consists of the first and last data point. To do this you need to slice the tensors train\\_data and train\\_label at the correct indices (and in order to do this you need to create a longtensor that contains the indices of the data points you want to extract)"
   ]
  },
  {
   "cell_type": "code",
   "execution_count": 33,
   "metadata": {},
   "outputs": [
    {
     "name": "stdout",
     "output_type": "stream",
     "text": [
      "tensor(0.6250, grad_fn=<MeanBackward1>)\n"
     ]
    }
   ],
   "source": [
    "# reset the weights so that the results of the next part are not affected by the previous\n",
    "indices = [0,3]\n",
    "minibatch_data = train_data[indices]\n",
    "minibatch_label = train_label[indices]\n",
    "# forward the minibatch through the net  \n",
    "scores = net(minibatch_data)\n",
    "# Compute the average of the losses of the data points in the minibatch\n",
    "loss = HingeLossCriterion(scores, minibatch_label)\n",
    "print(loss)"
   ]
  },
  {
   "cell_type": "markdown",
   "metadata": {},
   "source": [
    "### Compute the average loss on the full training set"
   ]
  },
  {
   "cell_type": "code",
   "execution_count": 34,
   "metadata": {},
   "outputs": [
    {
     "name": "stdout",
     "output_type": "stream",
     "text": [
      "tensor(0.5625, grad_fn=<MeanBackward1>)\n"
     ]
    }
   ],
   "source": [
    "scores2 = net(train_data)\n",
    "# Compute the average of the losses of the data points in entire set\n",
    "loss = HingeLossCriterion(scores2, train_label)\n",
    "print(loss)\n"
   ]
  },
  {
   "cell_type": "code",
   "execution_count": null,
   "metadata": {},
   "outputs": [],
   "source": []
  },
  {
   "cell_type": "code",
   "execution_count": null,
   "metadata": {},
   "outputs": [],
   "source": []
  }
 ],
 "metadata": {
  "kernelspec": {
   "display_name": "Python 3",
   "language": "python",
   "name": "python3"
  },
  "language_info": {
   "codemirror_mode": {
    "name": "ipython",
    "version": 3
   },
   "file_extension": ".py",
   "mimetype": "text/x-python",
   "name": "python",
   "nbconvert_exporter": "python",
   "pygments_lexer": "ipython3",
   "version": "3.7.0"
  }
 },
 "nbformat": 4,
 "nbformat_minor": 2
}
