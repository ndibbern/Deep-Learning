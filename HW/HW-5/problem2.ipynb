{
 "cells": [
  {
   "cell_type": "markdown",
   "metadata": {},
   "source": [
    "# HWK5 PROBLEM 2"
   ]
  },
  {
   "cell_type": "markdown",
   "metadata": {},
   "source": [
    "### Your goal is to train a neural net with multiple layers on Fashion Mnist and to obtain the lowest error rate possible on the test set. Try various hyperparameter (number of layers, hidden_sizes, etc...). Good luck!"
   ]
  },
  {
   "cell_type": "code",
   "execution_count": 1,
   "metadata": {},
   "outputs": [],
   "source": [
    "import torch\n",
    "import torch.nn as nn\n",
    "import torch.nn.functional as F\n",
    "import torch.optim as optim\n",
    "from random import randint\n",
    "import time\n",
    "import utils"
   ]
  },
  {
   "cell_type": "code",
   "execution_count": 2,
   "metadata": {},
   "outputs": [],
   "source": [
    "train_data=torch.load('../../data/fashion-mnist/train_data.pt')\n",
    "train_label=torch.load('../../data/fashion-mnist/train_label.pt')\n",
    "test_data=torch.load('../../data/fashion-mnist/test_data.pt')\n",
    "test_label=torch.load('../../data/fashion-mnist/test_label.pt')"
   ]
  },
  {
   "cell_type": "code",
   "execution_count": 3,
   "metadata": {},
   "outputs": [],
   "source": [
    "class one_layer_net(nn.Module):\n",
    "\n",
    "    def __init__(self, input_size, hid1, output_size):\n",
    "        super().__init__()\n",
    "        self.linear_layer = nn.Linear( input_size, hid1 , bias=False)\n",
    "        self.linear_layer2 = nn.Linear( hid1, output_size , bias=False)\n",
    "        \n",
    "    def forward(self, x):\n",
    "        x = self.linear_layer(x)\n",
    "        x = F.relu(x)\n",
    "        scores = self.linear_layer2(x)\n",
    "        return scores"
   ]
  },
  {
   "cell_type": "code",
   "execution_count": 4,
   "metadata": {},
   "outputs": [
    {
     "name": "stdout",
     "output_type": "stream",
     "text": [
      "one_layer_net(\n",
      "  (linear_layer): Linear(in_features=784, out_features=300, bias=False)\n",
      "  (linear_layer2): Linear(in_features=300, out_features=10, bias=False)\n",
      ")\n"
     ]
    }
   ],
   "source": [
    "net=one_layer_net(784,300,10)\n",
    "print(net)"
   ]
  },
  {
   "cell_type": "code",
   "execution_count": 5,
   "metadata": {},
   "outputs": [],
   "source": [
    "criterion = nn.CrossEntropyLoss()\n",
    "\n",
    "optimizer=torch.optim.SGD( net.parameters() , lr=0.01 )\n",
    "\n",
    "bs=200"
   ]
  },
  {
   "cell_type": "code",
   "execution_count": 6,
   "metadata": {},
   "outputs": [],
   "source": [
    "def eval_on_test_set():\n",
    "\n",
    "    running_error=0\n",
    "    num_batches=0\n",
    "    \n",
    "    with torch.no_grad():\n",
    "\n",
    "        for i in range(0,10000,bs):\n",
    "\n",
    "            minibatch_data =  test_data[i:i+bs]\n",
    "            minibatch_label= test_label[i:i+bs]\n",
    "\n",
    "            inputs = minibatch_data.view(bs,784)\n",
    "\n",
    "            scores=net( inputs ) \n",
    "\n",
    "            error = utils.get_error( scores , minibatch_label)\n",
    "\n",
    "            running_error += error.item()\n",
    "\n",
    "            num_batches+=1\n",
    "\n",
    "\n",
    "    total_error = running_error/num_batches\n",
    "    print( 'test error  = ', total_error*100 ,'percent')"
   ]
  },
  {
   "cell_type": "code",
   "execution_count": 7,
   "metadata": {},
   "outputs": [
    {
     "name": "stdout",
     "output_type": "stream",
     "text": [
      " \n",
      "epoch= 0 \t time= 1.6905860900878906 \t loss= 1.6027797293663024 \t error= 40.9166667064031 percent\n",
      "test error  =  33.72999966144562 percent\n",
      " \n",
      "epoch= 10 \t time= 17.108583688735962 \t loss= 0.5398589029908181 \t error= 18.34499994913737 percent\n",
      "test error  =  19.390000104904175 percent\n",
      " \n",
      "epoch= 20 \t time= 32.513890981674194 \t loss= 0.4710832819342613 \t error= 16.121666530768078 percent\n",
      "test error  =  17.229999899864197 percent\n",
      " \n",
      "epoch= 30 \t time= 49.40365123748779 \t loss= 0.43798155744870504 \t error= 14.986666321754456 percent\n",
      "test error  =  16.919999480247498 percent\n",
      " \n",
      "epoch= 40 \t time= 68.85407829284668 \t loss= 0.41573214530944824 \t error= 14.25499975681305 percent\n",
      "test error  =  15.729999780654907 percent\n",
      " \n",
      "epoch= 50 \t time= 85.83088421821594 \t loss= 0.39783754080533984 \t error= 13.633333245913187 percent\n",
      "test error  =  15.319999694824219 percent\n",
      " \n",
      "epoch= 60 \t time= 103.84478306770325 \t loss= 0.38266659547885257 \t error= 13.14333345492681 percent\n",
      "test error  =  14.769999623298647 percent\n",
      " \n",
      "epoch= 70 \t time= 121.13894200325012 \t loss= 0.36988600353399914 \t error= 12.743333458900452 percent\n",
      "test error  =  14.399999856948853 percent\n",
      " \n",
      "epoch= 80 \t time= 138.37919759750366 \t loss= 0.3585638221601645 \t error= 12.280000070730846 percent\n",
      "test error  =  14.059999942779541 percent\n",
      " \n",
      "epoch= 90 \t time= 156.93405771255493 \t loss= 0.348671512256066 \t error= 11.91833347082138 percent\n",
      "test error  =  13.770000219345095 percent\n",
      " \n",
      "epoch= 100 \t time= 175.86224222183228 \t loss= 0.3398911218841871 \t error= 11.673333525657654 percent\n",
      "test error  =  13.550000309944151 percent\n",
      " \n",
      "epoch= 110 \t time= 193.87765669822693 \t loss= 0.3319721921284993 \t error= 11.35833352804184 percent\n",
      "test error  =  13.279999971389769 percent\n",
      " \n",
      "epoch= 120 \t time= 211.96594905853271 \t loss= 0.3244117771089077 \t error= 11.160000423590342 percent\n",
      "test error  =  13.240000247955322 percent\n",
      " \n",
      "epoch= 130 \t time= 231.8261444568634 \t loss= 0.31736771941185 \t error= 10.946666896343231 percent\n",
      "test error  =  13.330000281333923 percent\n",
      " \n",
      "epoch= 140 \t time= 250.93748331069946 \t loss= 0.3105702506005764 \t error= 10.783333520094555 percent\n",
      "test error  =  13.170000314712524 percent\n",
      " \n",
      "epoch= 150 \t time= 268.40705704689026 \t loss= 0.3045800217986107 \t error= 10.458333611488342 percent\n",
      "test error  =  12.779999971389772 percent\n",
      " \n",
      "epoch= 160 \t time= 286.9390983581543 \t loss= 0.2984827417631944 \t error= 10.26500036319097 percent\n",
      "test error  =  12.890000224113466 percent\n",
      " \n",
      "epoch= 170 \t time= 306.41397428512573 \t loss= 0.2928792301317056 \t error= 10.175000031789144 percent\n",
      "test error  =  12.670000553131104 percent\n",
      " \n",
      "epoch= 180 \t time= 324.12126421928406 \t loss= 0.28754070192575454 \t error= 9.953333576520285 percent\n",
      "test error  =  12.740000486373901 percent\n",
      " \n",
      "epoch= 190 \t time= 342.1463453769684 \t loss= 0.2822513625522455 \t error= 9.743333578109741 percent\n",
      "test error  =  12.670000195503233 percent\n"
     ]
    }
   ],
   "source": [
    "start = time.time()\n",
    "\n",
    "for epoch in range(200):\n",
    "    \n",
    "    running_loss=0\n",
    "    running_error=0\n",
    "    num_batches=0\n",
    "    \n",
    "    shuffled_indices=torch.randperm(60000)\n",
    " \n",
    "    for count in range(0,60000,bs):\n",
    "        \n",
    "        # forward and backward pass\n",
    "    \n",
    "        optimizer.zero_grad()\n",
    "        \n",
    "        indices=shuffled_indices[count:count+bs]\n",
    "        minibatch_data =  train_data[indices]\n",
    "        minibatch_label= train_label[indices]\n",
    "\n",
    "        inputs = minibatch_data.view(bs,784)\n",
    "\n",
    "        inputs.requires_grad_()\n",
    "\n",
    "        scores=net( inputs ) \n",
    "\n",
    "        loss =  criterion( scores , minibatch_label) \n",
    "        \n",
    "        loss.backward()\n",
    "\n",
    "        optimizer.step()\n",
    "        \n",
    "        \n",
    "        # compute some stats\n",
    "        \n",
    "        num_batches+=1\n",
    "        \n",
    "        with torch.no_grad():\n",
    "            \n",
    "            running_loss += loss.item()\n",
    "\n",
    "            error = utils.get_error( scores , minibatch_label)\n",
    "            running_error += error.item() \n",
    "    \n",
    "    \n",
    "    # once the epoch is finished we divide the \"running quantities\"\n",
    "    # by the number of batches\n",
    "    \n",
    "    total_loss = running_loss/num_batches\n",
    "    total_error = running_error/num_batches\n",
    "    elapsed_time = time.time() - start\n",
    "    \n",
    "    # every 10 epoch we display the stats \n",
    "    # and compute the error rate on the test set  \n",
    "    \n",
    "    if epoch % 10 == 0 : \n",
    "    \n",
    "        print(' ')\n",
    "        \n",
    "        print('epoch=',epoch, '\\t time=', elapsed_time,\n",
    "              '\\t loss=', total_loss , '\\t error=', total_error*100 ,'percent')\n",
    "        \n",
    "        eval_on_test_set()\n",
    "               "
   ]
  },
  {
   "cell_type": "code",
   "execution_count": null,
   "metadata": {},
   "outputs": [],
   "source": [
    "# choose a picture at random\n",
    "idx=randint(0, 10000-1)\n",
    "im=test_data[idx]\n",
    "\n",
    "# diplay the picture\n",
    "utils.show(im)\n",
    "\n",
    "# feed it to the net and display the confidence scores\n",
    "scores =  net( im.view(1,784)) \n",
    "probs= F.softmax(scores, dim=1)\n",
    "utils.show_prob_mnist(probs)"
   ]
  },
  {
   "cell_type": "code",
   "execution_count": null,
   "metadata": {},
   "outputs": [],
   "source": []
  }
 ],
 "metadata": {
  "kernelspec": {
   "display_name": "Python 3",
   "language": "python",
   "name": "python3"
  },
  "language_info": {
   "codemirror_mode": {
    "name": "ipython",
    "version": 3
   },
   "file_extension": ".py",
   "mimetype": "text/x-python",
   "name": "python",
   "nbconvert_exporter": "python",
   "pygments_lexer": "ipython3",
   "version": "3.7.0"
  }
 },
 "nbformat": 4,
 "nbformat_minor": 2
}
