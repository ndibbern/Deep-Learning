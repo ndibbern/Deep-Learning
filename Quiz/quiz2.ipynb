{
 "cells": [
  {
   "cell_type": "markdown",
   "metadata": {},
   "source": [
    "# QUIZ 2"
   ]
  },
  {
   "cell_type": "code",
   "execution_count": 27,
   "metadata": {},
   "outputs": [],
   "source": [
    "import torch\n",
    "import torch.nn as nn\n",
    "import torch.nn.functional as F"
   ]
  },
  {
   "cell_type": "markdown",
   "metadata": {},
   "source": [
    "### Our goal is to  make a 2 layer neural net as follow:\n",
    "$$\n",
    "\\text{Linear layer 1} \\to  \\text{ReLU} \\to \\text{Linear layer 2} \n",
    "$$\n",
    "###  with weight matrices:\n",
    "$$\n",
    "W_1 \n",
    "= \\begin{bmatrix}\n",
    "1 &0 \\\\ 0 & 1 \n",
    "\\end{bmatrix} \\qquad \\text{,} \\qquad\n",
    "W_2 \n",
    "= \\begin{bmatrix}\n",
    "2 &5 \n",
    "\\end{bmatrix}\n",
    "$$\n",
    "### Note that there is NO bias and NO softmax."
   ]
  },
  {
   "cell_type": "markdown",
   "metadata": {},
   "source": [
    "# ----------------------------------------------------------------------------------"
   ]
  },
  {
   "cell_type": "markdown",
   "metadata": {},
   "source": [
    "### a) If the input of this network is the vector $x \n",
    "= \\begin{bmatrix}\n",
    "3 \\\\ -1\n",
    "\\end{bmatrix} \n",
    "$, what will be the output vector (compute by hand and write down the result in the markdown cell below)"
   ]
  },
  {
   "cell_type": "markdown",
   "metadata": {},
   "source": [
    "The output will be:  6"
   ]
  },
  {
   "cell_type": "markdown",
   "metadata": {},
   "source": [
    "### b) Make a class for the above network."
   ]
  },
  {
   "cell_type": "code",
   "execution_count": 28,
   "metadata": {},
   "outputs": [],
   "source": [
    "class two_layer_net(nn.Module):\n",
    "\n",
    "    def __init__(self, in_size, hid_size, out_size):\n",
    "        super().__init__()\n",
    "        \n",
    "        self.layer_one = nn.Linear(in_size, hid_size, bias=False)\n",
    "        self.layer_two = nn.Linear(hid_size, out_size, bias=False)\n",
    "        \n",
    "         \n",
    "    def forward(self, x):\n",
    "        \n",
    "        x = self.layer_one(x)\n",
    "        x = F.relu(x)\n",
    "        x = self.layer_two(x)\n",
    "        scores = F.relu(x)\n",
    "        return scores\n"
   ]
  },
  {
   "cell_type": "markdown",
   "metadata": {},
   "source": [
    "### c) Instantiate the network (the weights will be randomly initialized by pytorch)"
   ]
  },
  {
   "cell_type": "code",
   "execution_count": 29,
   "metadata": {},
   "outputs": [
    {
     "name": "stdout",
     "output_type": "stream",
     "text": [
      "two_layer_net(\n",
      "  (layer_one): Linear(in_features=2, out_features=2, bias=False)\n",
      "  (layer_two): Linear(in_features=2, out_features=1, bias=False)\n",
      ")\n"
     ]
    }
   ],
   "source": [
    "net = two_layer_net(2,2,1)\n",
    "print(net)"
   ]
  },
  {
   "cell_type": "markdown",
   "metadata": {},
   "source": [
    "### d) Change the weights of the network so that they become $\n",
    "W_1 = \\begin{bmatrix}\n",
    "1 &0 \\\\ 0 & 1 \n",
    "\\end{bmatrix}$ and $\n",
    "W_2 \n",
    "= \\begin{bmatrix}\n",
    "2 &5 \n",
    "\\end{bmatrix}\n",
    "$"
   ]
  },
  {
   "cell_type": "code",
   "execution_count": 30,
   "metadata": {},
   "outputs": [],
   "source": [
    "net.layer_one.weight[0][0] = 1\n",
    "net.layer_one.weight[0][1] = 0\n",
    "net.layer_one.weight[1][0] = 0\n",
    "net.layer_one.weight[1][1] = 1\n",
    "        \n",
    "net.layer_two.weight[0] = torch.Tensor([2,5])"
   ]
  },
  {
   "cell_type": "markdown",
   "metadata": {},
   "source": [
    "### e) Test that your network works properly (you have nothing to do here except running the cell and making sure you get the expected results)."
   ]
  },
  {
   "cell_type": "code",
   "execution_count": 31,
   "metadata": {},
   "outputs": [
    {
     "name": "stdout",
     "output_type": "stream",
     "text": [
      "tensor([10.], grad_fn=<ReluBackward>)\n"
     ]
    }
   ],
   "source": [
    "x=torch.Tensor([-8,2])\n",
    "y= net(x)\n",
    "print(y)"
   ]
  },
  {
   "cell_type": "code",
   "execution_count": null,
   "metadata": {},
   "outputs": [],
   "source": []
  }
 ],
 "metadata": {
  "kernelspec": {
   "display_name": "Python 3",
   "language": "python",
   "name": "python3"
  },
  "language_info": {
   "codemirror_mode": {
    "name": "ipython",
    "version": 3
   },
   "file_extension": ".py",
   "mimetype": "text/x-python",
   "name": "python",
   "nbconvert_exporter": "python",
   "pygments_lexer": "ipython3",
   "version": "3.7.0"
  }
 },
 "nbformat": 4,
 "nbformat_minor": 2
}
